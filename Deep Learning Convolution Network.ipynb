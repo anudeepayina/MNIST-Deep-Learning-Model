{
  "cells": [
    {
      "metadata": {
        "trusted": true
      },
      "cell_type": "code",
      "source": "from keras.models import Sequential\nfrom keras.layers import Dense, Flatten, Conv2D, Dropout, MaxPool2D\nfrom keras.optimizers import adam\nimport matplotlib as plt\nfrom matplotlib import pyplot\nfrom keras.utils import to_categorical\nfrom keras.callbacks import ModelCheckpoint",
      "execution_count": 24,
      "outputs": []
    },
    {
      "metadata": {
        "trusted": true
      },
      "cell_type": "code",
      "source": "from keras.datasets import mnist\n(x_train,y_train),(x_test,y_test) = mnist.load_data()",
      "execution_count": 42,
      "outputs": []
    },
    {
      "metadata": {
        "trusted": true
      },
      "cell_type": "code",
      "source": "##Preprocessing of Data\n##Make all imgaes into one colour channel\nx_train = x_train.reshape((x_train.shape[0],28,28,1))\nx_test = x_test.reshape((x_test.shape[0],28,28,1))\n##Change data to categorical\ny_train = to_categorical(y_train)\ny_test = to_categorical(y_test)",
      "execution_count": 43,
      "outputs": []
    },
    {
      "metadata": {
        "trusted": true
      },
      "cell_type": "code",
      "source": "#Instantiate model\nmodel = Sequential()",
      "execution_count": 44,
      "outputs": []
    },
    {
      "metadata": {
        "trusted": true
      },
      "cell_type": "code",
      "source": "checkpoint = ModelCheckpoint('weights.hdf5',monitor=\"val_loss\",save_best_only=True)\ncallbackslist = [checkpoint]",
      "execution_count": 45,
      "outputs": []
    },
    {
      "metadata": {
        "trusted": true
      },
      "cell_type": "code",
      "source": "##Create Layers\nmodel.add(Conv2D(32,kernel_size=3,activation=\"relu\",input_shape=[28,28,1],padding=\"same\"))\nmodel.add(Dropout(0.2))\nmodel.add(MaxPool2D(2))\nmodel.add(Conv2D(10,kernel_size=3,activation=\"relu\",padding=\"same\"))\nmodel.add(Flatten())\nmodel.add(Dense(10,activation=\"softmax\"))",
      "execution_count": 46,
      "outputs": []
    },
    {
      "metadata": {
        "trusted": true
      },
      "cell_type": "code",
      "source": "##Evaluate model\nmodel.compile(optimizer=\"adam\",loss=\"categorical_crossentropy\",metrics=[\"accuracy\"])\ntraining = model.fit(x_train,y_train,validation_split=0.3,batch_size=100,epochs=3,verbose=1,callbacks=callbackslist)\nhistory = training.history",
      "execution_count": 47,
      "outputs": [
        {
          "output_type": "stream",
          "text": "Train on 42000 samples, validate on 18000 samples\nEpoch 1/3\n42000/42000 [==============================] - 155s 4ms/step - loss: 0.8135 - accuracy: 0.8553 - val_loss: 0.1655 - val_accuracy: 0.9497\nEpoch 2/3\n42000/42000 [==============================] - 163s 4ms/step - loss: 0.1380 - accuracy: 0.9585 - val_loss: 0.1151 - val_accuracy: 0.9646\nEpoch 3/3\n42000/42000 [==============================] - 157s 4ms/step - loss: 0.0941 - accuracy: 0.9715 - val_loss: 0.1018 - val_accuracy: 0.9694\n",
          "name": "stdout"
        }
      ]
    },
    {
      "metadata": {
        "trusted": true
      },
      "cell_type": "code",
      "source": "#Plot loss\npyplot.plot(history[\"loss\"])\npyplot.plot(history[\"val_loss\"])\npyplot.grid()",
      "execution_count": 48,
      "outputs": [
        {
          "output_type": "display_data",
          "data": {
            "image/png": "[encoded data removed]",
            "text/plain": "<Figure size 432x288 with 1 Axes>"
          },
          "metadata": {
            "needs_background": "light"
          }
        }
      ]
    },
    {
      "metadata": {
        "trusted": true
      },
      "cell_type": "code",
      "source": "#Load best model\nmodel.load_weights('weights.hdf5')\n#Predict using best model\nresults = model.evaluate(x_test,y_test,batch_size=10)\nprint(\"test loss, test acc:\", results)",
      "execution_count": 49,
      "outputs": [
        {
          "output_type": "stream",
          "text": "10000/10000 [==============================] - 20s 2ms/step\ntest loss, test acc: [0.08834109799559883, 0.9735000133514404]\n",
          "name": "stdout"
        }
      ]
    },
    {
      "metadata": {
        "trusted": true
      },
      "cell_type": "code",
      "source": "",
      "execution_count": null,
      "outputs": []
    }
  ],
  "metadata": {
    "kernelspec": {
      "name": "python36",
      "display_name": "Python 3.6",
      "language": "python"
    },
    "language_info": {
      "mimetype": "text/x-python",
      "nbconvert_exporter": "python",
      "name": "python",
      "pygments_lexer": "ipython3",
      "version": "3.6.6",
      "file_extension": ".py",
      "codemirror_mode": {
        "version": 3,
        "name": "ipython"
      }
    }
  },
  "nbformat": 4,
  "nbformat_minor": 2
}